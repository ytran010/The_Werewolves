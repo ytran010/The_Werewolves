{
 "cells": [
  {
   "cell_type": "code",
   "execution_count": 1,
   "metadata": {},
   "outputs": [],
   "source": [
    "%matplotlib inline\n",
    "import pandas as pd\n",
    "import scipy.stats as stats\n",
    "import matplotlib.pyplot as plt"
   ]
  },
  {
   "cell_type": "code",
   "execution_count": 2,
   "metadata": {},
   "outputs": [
    {
     "data": {
      "text/html": [
       "<div>\n",
       "<style scoped>\n",
       "    .dataframe tbody tr th:only-of-type {\n",
       "        vertical-align: middle;\n",
       "    }\n",
       "\n",
       "    .dataframe tbody tr th {\n",
       "        vertical-align: top;\n",
       "    }\n",
       "\n",
       "    .dataframe thead th {\n",
       "        text-align: right;\n",
       "    }\n",
       "</style>\n",
       "<table border=\"1\" class=\"dataframe\">\n",
       "  <thead>\n",
       "    <tr style=\"text-align: right;\">\n",
       "      <th></th>\n",
       "      <th>lat</th>\n",
       "      <th>lng</th>\n",
       "      <th>zip</th>\n",
       "      <th>Emergency Reason</th>\n",
       "      <th>Town/City</th>\n",
       "      <th>Date</th>\n",
       "      <th>Moon Phase</th>\n",
       "    </tr>\n",
       "  </thead>\n",
       "  <tbody>\n",
       "    <tr>\n",
       "      <th>0</th>\n",
       "      <td>40.297876</td>\n",
       "      <td>-75.581294</td>\n",
       "      <td>19525.0</td>\n",
       "      <td>EMS: BACK PAINS/INJURY</td>\n",
       "      <td>NEW HANOVER</td>\n",
       "      <td>2015-12-10</td>\n",
       "      <td>0.99</td>\n",
       "    </tr>\n",
       "    <tr>\n",
       "      <th>1</th>\n",
       "      <td>40.258061</td>\n",
       "      <td>-75.264680</td>\n",
       "      <td>19446.0</td>\n",
       "      <td>EMS: DIABETIC EMERGENCY</td>\n",
       "      <td>HATFIELD TOWNSHIP</td>\n",
       "      <td>2015-12-10</td>\n",
       "      <td>0.99</td>\n",
       "    </tr>\n",
       "    <tr>\n",
       "      <th>2</th>\n",
       "      <td>40.121182</td>\n",
       "      <td>-75.351975</td>\n",
       "      <td>19401.0</td>\n",
       "      <td>Fire: GAS-ODOR/LEAK</td>\n",
       "      <td>NORRISTOWN</td>\n",
       "      <td>2015-12-10</td>\n",
       "      <td>0.99</td>\n",
       "    </tr>\n",
       "    <tr>\n",
       "      <th>3</th>\n",
       "      <td>40.116153</td>\n",
       "      <td>-75.343513</td>\n",
       "      <td>19401.0</td>\n",
       "      <td>EMS: CARDIAC EMERGENCY</td>\n",
       "      <td>NORRISTOWN</td>\n",
       "      <td>2015-12-10</td>\n",
       "      <td>0.99</td>\n",
       "    </tr>\n",
       "    <tr>\n",
       "      <th>4</th>\n",
       "      <td>40.251492</td>\n",
       "      <td>-75.603350</td>\n",
       "      <td>NaN</td>\n",
       "      <td>EMS: DIZZINESS</td>\n",
       "      <td>LOWER POTTSGROVE</td>\n",
       "      <td>2015-12-10</td>\n",
       "      <td>0.99</td>\n",
       "    </tr>\n",
       "  </tbody>\n",
       "</table>\n",
       "</div>"
      ],
      "text/plain": [
       "         lat        lng      zip         Emergency Reason          Town/City  \\\n",
       "0  40.297876 -75.581294  19525.0   EMS: BACK PAINS/INJURY        NEW HANOVER   \n",
       "1  40.258061 -75.264680  19446.0  EMS: DIABETIC EMERGENCY  HATFIELD TOWNSHIP   \n",
       "2  40.121182 -75.351975  19401.0      Fire: GAS-ODOR/LEAK         NORRISTOWN   \n",
       "3  40.116153 -75.343513  19401.0   EMS: CARDIAC EMERGENCY         NORRISTOWN   \n",
       "4  40.251492 -75.603350      NaN           EMS: DIZZINESS   LOWER POTTSGROVE   \n",
       "\n",
       "         Date  Moon Phase  \n",
       "0  2015-12-10        0.99  \n",
       "1  2015-12-10        0.99  \n",
       "2  2015-12-10        0.99  \n",
       "3  2015-12-10        0.99  \n",
       "4  2015-12-10        0.99  "
      ]
     },
     "execution_count": 2,
     "metadata": {},
     "output_type": "execute_result"
    }
   ],
   "source": [
    "werewolf_df = pd.read_csv(\"Resources/werewolf_data.csv\")\n",
    "werewolf_df.head()"
   ]
  },
  {
   "cell_type": "code",
   "execution_count": 3,
   "metadata": {},
   "outputs": [
    {
     "data": {
      "text/plain": [
       "0.50    33278\n",
       "0.00    16514\n",
       "0.75     4636\n",
       "0.25     3208\n",
       "Name: Moon Phase, dtype: int64"
      ]
     },
     "execution_count": 3,
     "metadata": {},
     "output_type": "execute_result"
    }
   ],
   "source": [
    "narrowed_phases = werewolf_df.loc[(werewolf_df[\"Moon Phase\"]== 0.0)|(werewolf_df[\"Moon Phase\"]== 0.25)|(werewolf_df[\"Moon Phase\"]== 0.5)|(werewolf_df[\"Moon Phase\"]== 0.75),:]\n",
    "\n",
    "narrowed_phases[\"Moon Phase\"].value_counts()"
   ]
  },
  {
   "cell_type": "code",
   "execution_count": 4,
   "metadata": {},
   "outputs": [
    {
     "ename": "AttributeError",
     "evalue": "'DataFrame' object has no attribute 'value_counts'",
     "output_type": "error",
     "traceback": [
      "\u001b[0;31m---------------------------------------------------------------------------\u001b[0m",
      "\u001b[0;31mAttributeError\u001b[0m                            Traceback (most recent call last)",
      "\u001b[0;32m<ipython-input-4-fa9bd2a4d51d>\u001b[0m in \u001b[0;36m<module>\u001b[0;34m\u001b[0m\n\u001b[1;32m      6\u001b[0m \u001b[0mgroup_counted_df\u001b[0m \u001b[0;34m=\u001b[0m \u001b[0mpd\u001b[0m\u001b[0;34m.\u001b[0m\u001b[0mDataFrame\u001b[0m\u001b[0;34m(\u001b[0m\u001b[0mgroup_counted\u001b[0m\u001b[0;34m)\u001b[0m\u001b[0;34m\u001b[0m\u001b[0;34m\u001b[0m\u001b[0m\n\u001b[1;32m      7\u001b[0m \u001b[0mgroup_counted_df\u001b[0m\u001b[0;34m.\u001b[0m\u001b[0mreset_index\u001b[0m\u001b[0;34m(\u001b[0m\u001b[0minplace\u001b[0m\u001b[0;34m=\u001b[0m\u001b[0;32mTrue\u001b[0m\u001b[0;34m)\u001b[0m\u001b[0;34m\u001b[0m\u001b[0;34m\u001b[0m\u001b[0m\n\u001b[0;32m----> 8\u001b[0;31m \u001b[0mgroup_counted_df\u001b[0m\u001b[0;34m.\u001b[0m\u001b[0mvalue_counts\u001b[0m\u001b[0;34m(\u001b[0m\u001b[0;34m)\u001b[0m\u001b[0;34m\u001b[0m\u001b[0;34m\u001b[0m\u001b[0m\n\u001b[0m",
      "\u001b[0;32m~/opt/anaconda3/lib/python3.8/site-packages/pandas/core/generic.py\u001b[0m in \u001b[0;36m__getattr__\u001b[0;34m(self, name)\u001b[0m\n\u001b[1;32m   5272\u001b[0m             \u001b[0;32mif\u001b[0m \u001b[0mself\u001b[0m\u001b[0;34m.\u001b[0m\u001b[0m_info_axis\u001b[0m\u001b[0;34m.\u001b[0m\u001b[0m_can_hold_identifiers_and_holds_name\u001b[0m\u001b[0;34m(\u001b[0m\u001b[0mname\u001b[0m\u001b[0;34m)\u001b[0m\u001b[0;34m:\u001b[0m\u001b[0;34m\u001b[0m\u001b[0;34m\u001b[0m\u001b[0m\n\u001b[1;32m   5273\u001b[0m                 \u001b[0;32mreturn\u001b[0m \u001b[0mself\u001b[0m\u001b[0;34m[\u001b[0m\u001b[0mname\u001b[0m\u001b[0;34m]\u001b[0m\u001b[0;34m\u001b[0m\u001b[0;34m\u001b[0m\u001b[0m\n\u001b[0;32m-> 5274\u001b[0;31m             \u001b[0;32mreturn\u001b[0m \u001b[0mobject\u001b[0m\u001b[0;34m.\u001b[0m\u001b[0m__getattribute__\u001b[0m\u001b[0;34m(\u001b[0m\u001b[0mself\u001b[0m\u001b[0;34m,\u001b[0m \u001b[0mname\u001b[0m\u001b[0;34m)\u001b[0m\u001b[0;34m\u001b[0m\u001b[0;34m\u001b[0m\u001b[0m\n\u001b[0m\u001b[1;32m   5275\u001b[0m \u001b[0;34m\u001b[0m\u001b[0m\n\u001b[1;32m   5276\u001b[0m     \u001b[0;32mdef\u001b[0m \u001b[0m__setattr__\u001b[0m\u001b[0;34m(\u001b[0m\u001b[0mself\u001b[0m\u001b[0;34m,\u001b[0m \u001b[0mname\u001b[0m\u001b[0;34m:\u001b[0m \u001b[0mstr\u001b[0m\u001b[0;34m,\u001b[0m \u001b[0mvalue\u001b[0m\u001b[0;34m)\u001b[0m \u001b[0;34m->\u001b[0m \u001b[0;32mNone\u001b[0m\u001b[0;34m:\u001b[0m\u001b[0;34m\u001b[0m\u001b[0;34m\u001b[0m\u001b[0m\n",
      "\u001b[0;31mAttributeError\u001b[0m: 'DataFrame' object has no attribute 'value_counts'"
     ]
    }
   ],
   "source": [
    "\n",
    "group_moon_date = narrowed_phases.groupby([\"Moon Phase\", \"Date\"])\n",
    "group_counted = group_moon_date[\"Emergency Reason\"].count()\n",
    "group_counted.head()\n",
    "\n",
    "\n",
    "group_counted_df = pd.DataFrame(group_counted)\n",
    "group_counted_df.reset_index(inplace=True)\n",
    "group_counted_df.value_counts()"
   ]
  },
  {
   "cell_type": "code",
   "execution_count": null,
   "metadata": {},
   "outputs": [],
   "source": [
    "calls_in_day = []\n",
    "\n",
    "\n",
    "Phase_Names = [\"New Moon\",\"First Quarter\", \"Full Moon\", \"Last Quarter\"]\n",
    "Moon_Phases = [0, 0.25, 0.5, 0.75]\n",
    "\n",
    "for phase in Moon_Phases:\n",
    "    \n",
    "    calls = group_counted_df.loc[group_counted_df['Moon Phase'] == phase,'Emergency Reason']\n",
    "    calls_in_day.append(calls)\n",
    "\n",
    "    \n",
    "    \n",
    "    \n",
    "calls_in_day    \n",
    "\n",
    "# # plt.boxplot(group_counted_df)\n",
    "# # plt.show()\n",
    "# narrowed_phases.boxplot(, by=\"Moon Phase\", figsize=(20, 10))"
   ]
  },
  {
   "cell_type": "code",
   "execution_count": null,
   "metadata": {},
   "outputs": [],
   "source": [
    "fig1, ax1 = plt.subplots()\n",
    "\n",
    "ax1.set_ylabel(\"Number of 911 Calls\")\n",
    "ax1.boxplot(calls_in_day,labels=Phase_Names)\n",
    "plt.show()"
   ]
  },
  {
   "cell_type": "code",
   "execution_count": null,
   "metadata": {},
   "outputs": [],
   "source": [
    "group1 = group_counted_df[group_counted_df[\"Moon Phase\"] == 0][\"Emergency Reason\"]\n",
    "group2 = group_counted_df[group_counted_df[\"Moon Phase\"] == .25][\"Emergency Reason\"]\n",
    "group3 = group_counted_df[group_counted_df[\"Moon Phase\"] == .5][\"Emergency Reason\"]\n",
    "group4 = group_counted_df[group_counted_df[\"Moon Phase\"] == 0.75][\"Emergency Reason\"]\n",
    "\n",
    "# Perform the ANOVA\n",
    "stats.f_oneway(group1, group2, group3, group4)"
   ]
  },
  {
   "cell_type": "code",
   "execution_count": 5,
   "metadata": {},
   "outputs": [
    {
     "data": {
      "text/html": [
       "<div>\n",
       "<style scoped>\n",
       "    .dataframe tbody tr th:only-of-type {\n",
       "        vertical-align: middle;\n",
       "    }\n",
       "\n",
       "    .dataframe tbody tr th {\n",
       "        vertical-align: top;\n",
       "    }\n",
       "\n",
       "    .dataframe thead th {\n",
       "        text-align: right;\n",
       "    }\n",
       "</style>\n",
       "<table border=\"1\" class=\"dataframe\">\n",
       "  <thead>\n",
       "    <tr style=\"text-align: right;\">\n",
       "      <th></th>\n",
       "      <th>lat</th>\n",
       "      <th>lng</th>\n",
       "      <th>zip</th>\n",
       "      <th>Emergency Reason</th>\n",
       "      <th>Town/City</th>\n",
       "      <th>Date</th>\n",
       "      <th>Moon Phase</th>\n",
       "      <th>Phasing</th>\n",
       "    </tr>\n",
       "  </thead>\n",
       "  <tbody>\n",
       "    <tr>\n",
       "      <th>0</th>\n",
       "      <td>40.297876</td>\n",
       "      <td>-75.581294</td>\n",
       "      <td>19525.0</td>\n",
       "      <td>EMS: BACK PAINS/INJURY</td>\n",
       "      <td>NEW HANOVER</td>\n",
       "      <td>2015-12-10</td>\n",
       "      <td>0.99</td>\n",
       "      <td>New Moon Begin</td>\n",
       "    </tr>\n",
       "    <tr>\n",
       "      <th>1</th>\n",
       "      <td>40.258061</td>\n",
       "      <td>-75.264680</td>\n",
       "      <td>19446.0</td>\n",
       "      <td>EMS: DIABETIC EMERGENCY</td>\n",
       "      <td>HATFIELD TOWNSHIP</td>\n",
       "      <td>2015-12-10</td>\n",
       "      <td>0.99</td>\n",
       "      <td>New Moon Begin</td>\n",
       "    </tr>\n",
       "    <tr>\n",
       "      <th>2</th>\n",
       "      <td>40.121182</td>\n",
       "      <td>-75.351975</td>\n",
       "      <td>19401.0</td>\n",
       "      <td>Fire: GAS-ODOR/LEAK</td>\n",
       "      <td>NORRISTOWN</td>\n",
       "      <td>2015-12-10</td>\n",
       "      <td>0.99</td>\n",
       "      <td>New Moon Begin</td>\n",
       "    </tr>\n",
       "    <tr>\n",
       "      <th>3</th>\n",
       "      <td>40.116153</td>\n",
       "      <td>-75.343513</td>\n",
       "      <td>19401.0</td>\n",
       "      <td>EMS: CARDIAC EMERGENCY</td>\n",
       "      <td>NORRISTOWN</td>\n",
       "      <td>2015-12-10</td>\n",
       "      <td>0.99</td>\n",
       "      <td>New Moon Begin</td>\n",
       "    </tr>\n",
       "    <tr>\n",
       "      <th>4</th>\n",
       "      <td>40.251492</td>\n",
       "      <td>-75.603350</td>\n",
       "      <td>NaN</td>\n",
       "      <td>EMS: DIZZINESS</td>\n",
       "      <td>LOWER POTTSGROVE</td>\n",
       "      <td>2015-12-10</td>\n",
       "      <td>0.99</td>\n",
       "      <td>New Moon Begin</td>\n",
       "    </tr>\n",
       "    <tr>\n",
       "      <th>...</th>\n",
       "      <td>...</td>\n",
       "      <td>...</td>\n",
       "      <td>...</td>\n",
       "      <td>...</td>\n",
       "      <td>...</td>\n",
       "      <td>...</td>\n",
       "      <td>...</td>\n",
       "      <td>...</td>\n",
       "    </tr>\n",
       "    <tr>\n",
       "      <th>663517</th>\n",
       "      <td>40.157956</td>\n",
       "      <td>-75.348060</td>\n",
       "      <td>19403.0</td>\n",
       "      <td>Traffic: VEHICLE ACCIDENT -</td>\n",
       "      <td>EAST NORRITON</td>\n",
       "      <td>2020-07-29</td>\n",
       "      <td>NaN</td>\n",
       "      <td>NaN</td>\n",
       "    </tr>\n",
       "    <tr>\n",
       "      <th>663518</th>\n",
       "      <td>40.136306</td>\n",
       "      <td>-75.428697</td>\n",
       "      <td>19403.0</td>\n",
       "      <td>EMS: GENERAL WEAKNESS</td>\n",
       "      <td>LOWER PROVIDENCE</td>\n",
       "      <td>2020-07-29</td>\n",
       "      <td>NaN</td>\n",
       "      <td>NaN</td>\n",
       "    </tr>\n",
       "    <tr>\n",
       "      <th>663519</th>\n",
       "      <td>40.013779</td>\n",
       "      <td>-75.300835</td>\n",
       "      <td>19041.0</td>\n",
       "      <td>EMS: VEHICLE ACCIDENT</td>\n",
       "      <td>LOWER MERION</td>\n",
       "      <td>2020-07-29</td>\n",
       "      <td>NaN</td>\n",
       "      <td>NaN</td>\n",
       "    </tr>\n",
       "    <tr>\n",
       "      <th>663520</th>\n",
       "      <td>40.121603</td>\n",
       "      <td>-75.351437</td>\n",
       "      <td>19401.0</td>\n",
       "      <td>Fire: BUILDING FIRE</td>\n",
       "      <td>NORRISTOWN</td>\n",
       "      <td>2020-07-29</td>\n",
       "      <td>NaN</td>\n",
       "      <td>NaN</td>\n",
       "    </tr>\n",
       "    <tr>\n",
       "      <th>663521</th>\n",
       "      <td>40.015046</td>\n",
       "      <td>-75.299674</td>\n",
       "      <td>19041.0</td>\n",
       "      <td>Traffic: VEHICLE ACCIDENT -</td>\n",
       "      <td>LOWER MERION</td>\n",
       "      <td>2020-07-29</td>\n",
       "      <td>NaN</td>\n",
       "      <td>NaN</td>\n",
       "    </tr>\n",
       "  </tbody>\n",
       "</table>\n",
       "<p>663522 rows × 8 columns</p>\n",
       "</div>"
      ],
      "text/plain": [
       "              lat        lng      zip             Emergency Reason  \\\n",
       "0       40.297876 -75.581294  19525.0       EMS: BACK PAINS/INJURY   \n",
       "1       40.258061 -75.264680  19446.0      EMS: DIABETIC EMERGENCY   \n",
       "2       40.121182 -75.351975  19401.0          Fire: GAS-ODOR/LEAK   \n",
       "3       40.116153 -75.343513  19401.0       EMS: CARDIAC EMERGENCY   \n",
       "4       40.251492 -75.603350      NaN               EMS: DIZZINESS   \n",
       "...           ...        ...      ...                          ...   \n",
       "663517  40.157956 -75.348060  19403.0  Traffic: VEHICLE ACCIDENT -   \n",
       "663518  40.136306 -75.428697  19403.0        EMS: GENERAL WEAKNESS   \n",
       "663519  40.013779 -75.300835  19041.0        EMS: VEHICLE ACCIDENT   \n",
       "663520  40.121603 -75.351437  19401.0          Fire: BUILDING FIRE   \n",
       "663521  40.015046 -75.299674  19041.0  Traffic: VEHICLE ACCIDENT -   \n",
       "\n",
       "                Town/City        Date  Moon Phase         Phasing  \n",
       "0             NEW HANOVER  2015-12-10        0.99  New Moon Begin  \n",
       "1       HATFIELD TOWNSHIP  2015-12-10        0.99  New Moon Begin  \n",
       "2              NORRISTOWN  2015-12-10        0.99  New Moon Begin  \n",
       "3              NORRISTOWN  2015-12-10        0.99  New Moon Begin  \n",
       "4        LOWER POTTSGROVE  2015-12-10        0.99  New Moon Begin  \n",
       "...                   ...         ...         ...             ...  \n",
       "663517      EAST NORRITON  2020-07-29         NaN             NaN  \n",
       "663518   LOWER PROVIDENCE  2020-07-29         NaN             NaN  \n",
       "663519       LOWER MERION  2020-07-29         NaN             NaN  \n",
       "663520         NORRISTOWN  2020-07-29         NaN             NaN  \n",
       "663521       LOWER MERION  2020-07-29         NaN             NaN  \n",
       "\n",
       "[663522 rows x 8 columns]"
      ]
     },
     "execution_count": 5,
     "metadata": {},
     "output_type": "execute_result"
    }
   ],
   "source": [
    "bins = [0,0.2,0.4,0.6,0.8,1]\n",
    "group_names = [\"New Moon End\", \"Waxing\", \"Full Moon Area\", \"Waning\", \"New Moon Begin\"]\n",
    "werewolf_df[\"Phasing\"] = pd.cut(werewolf_df[\"Moon Phase\"], bins, labels=group_names, include_lowest=True)\n",
    "werewolf_df"
   ]
  },
  {
   "cell_type": "code",
   "execution_count": 6,
   "metadata": {},
   "outputs": [
    {
     "data": {
      "text/plain": [
       "Full Moon Area    432\n",
       "New Moon Begin    320\n",
       "New Moon End      318\n",
       "Waning            204\n",
       "Waxing            203\n",
       "Name: Phasing, dtype: int64"
      ]
     },
     "execution_count": 6,
     "metadata": {},
     "output_type": "execute_result"
    }
   ],
   "source": [
    "# filtered_df = werewolf_df.loc[(werewolf_df[\"Phasing\"]== \"New Moon Begin\")|(werewolf_df[\"Phasing\"]== \"Waxing\")|(werewolf_df[\"Phasing\"]== \"Full Moon Area\")|(werewolf_df[\"Phasing\"]== \"Waning\")|(werewolf_df[\"Phasing\"]== \"New Moon End\")]\n",
    "filtered_df = werewolf_df.dropna()\n",
    "\n",
    "group_moon_phasing = filtered_df.groupby([\"Phasing\", \"Date\"])\n",
    "group_moon_phasing.head()\n",
    "group_counted = group_moon_phasing[\"Emergency Reason\"].count()\n",
    "group_counted.head()\n",
    "\n",
    "\n",
    "group_counted_df = pd.DataFrame(group_counted)\n",
    "group_counted_df.reset_index(inplace=True)\n",
    "group_counted_df.head()\n",
    "\n",
    "clean_counted_df = group_counted_df.loc[group_counted_df[\"Emergency Reason\"]!= 0,:]\n",
    "group_counted_df\n",
    "clean_counted_df[\"Phasing\"].value_counts()"
   ]
  },
  {
   "cell_type": "code",
   "execution_count": 7,
   "metadata": {},
   "outputs": [],
   "source": [
    "calls_in_day = []\n",
    "\n",
    "\n",
    "Phase_Names = [\"New Moon End\",\"Waxing\", \"Full Moon Area\", \"Waning\", \"New Moon Begin\"]\n",
    "Moon_Phases = [\"New Moon End\",\"Waxing\", \"Full Moon Area\", \"Waning\", \"New Moon Begin\"]\n",
    "\n",
    "for phase in Moon_Phases:\n",
    "    \n",
    "    calls = clean_counted_df.loc[clean_counted_df['Phasing'] == phase,'Emergency Reason']\n",
    "    calls_in_day.append(calls)\n"
   ]
  },
  {
   "cell_type": "code",
   "execution_count": 75,
   "metadata": {},
   "outputs": [
    {
     "data": {
      "text/plain": [
       "[2       334\n",
       " 3       279\n",
       " 4       385\n",
       " 5       380\n",
       " 6       343\n",
       "        ... \n",
       " 1450    352\n",
       " 1451    327\n",
       " 1452    289\n",
       " 1453    346\n",
       " 1454    360\n",
       " Name: Emergency Reason, Length: 318, dtype: int64,\n",
       " 1485    306\n",
       " 1486    239\n",
       " 1487    236\n",
       " 1488    376\n",
       " 1515    258\n",
       "        ... \n",
       " 2905    389\n",
       " 2932    408\n",
       " 2933    384\n",
       " 2934    373\n",
       " 2935    342\n",
       " Name: Emergency Reason, Length: 203, dtype: int64,\n",
       " 2966    399\n",
       " 2967    430\n",
       " 2968    386\n",
       " 2969    266\n",
       " 2970    258\n",
       "        ... \n",
       " 4417    353\n",
       " 4418    428\n",
       " 4419    375\n",
       " 4420    281\n",
       " 4421    404\n",
       " Name: Emergency Reason, Length: 432, dtype: int64,\n",
       " 4451    303\n",
       " 4452    268\n",
       " 4453    236\n",
       " 4454    299\n",
       " 4455    284\n",
       "        ... \n",
       " 5872    355\n",
       " 5899    424\n",
       " 5900    421\n",
       " 5901    386\n",
       " 5902    459\n",
       " Name: Emergency Reason, Length: 204, dtype: int64,\n",
       " 5908    100\n",
       " 5909    332\n",
       " 5933    345\n",
       " 5934    373\n",
       " 5935    375\n",
       "        ... \n",
       " 7380    363\n",
       " 7381    325\n",
       " 7382    416\n",
       " 7383    346\n",
       " 7384    290\n",
       " Name: Emergency Reason, Length: 320, dtype: int64]"
      ]
     },
     "execution_count": 75,
     "metadata": {},
     "output_type": "execute_result"
    }
   ],
   "source": [
    "calls_in_day"
   ]
  },
  {
   "cell_type": "code",
   "execution_count": 76,
   "metadata": {},
   "outputs": [
    {
     "data": {
      "image/png": "[encoded data removed]",
      "text/plain": [
       "<Figure size 432x288 with 1 Axes>"
      ]
     },
     "metadata": {
      "needs_background": "light"
     },
     "output_type": "display_data"
    }
   ],
   "source": [
    "fig1, ax1 = plt.subplots()\n",
    "\n",
    "ax1.set_ylabel(\"Number of 911 Calls\")\n",
    "ax1.boxplot(calls_in_day,labels=Phase_Names)\n",
    "plt.show()"
   ]
  },
  {
   "cell_type": "code",
   "execution_count": 77,
   "metadata": {},
   "outputs": [
    {
     "data": {
      "text/plain": [
       "F_onewayResult(statistic=0.796634712485463, pvalue=0.5273156323044574)"
      ]
     },
     "execution_count": 77,
     "metadata": {},
     "output_type": "execute_result"
    }
   ],
   "source": [
    "group1 = clean_counted_df[clean_counted_df[\"Phasing\"] == \"New Moon Begin\"][\"Emergency Reason\"]\n",
    "group2 = clean_counted_df[clean_counted_df[\"Phasing\"] == \"Waxing\"][\"Emergency Reason\"]\n",
    "group3 = clean_counted_df[clean_counted_df[\"Phasing\"] == \"Full Moon Area\"][\"Emergency Reason\"]\n",
    "group4 = clean_counted_df[clean_counted_df[\"Phasing\"] == \"Waning\"][\"Emergency Reason\"]\n",
    "group5 = clean_counted_df[clean_counted_df[\"Phasing\"] == \"New Moon End\"][\"Emergency Reason\"]\n",
    "\n",
    "# Perform the ANOVA\n",
    "stats.f_oneway(group1, group2, group3, group4, group5)\n"
   ]
  },
  {
   "cell_type": "code",
   "execution_count": 78,
   "metadata": {},
   "outputs": [],
   "source": [
    "# BINNING ISSUE MAYBE 0.8 --> 1 "
   ]
  },
  {
   "cell_type": "code",
   "execution_count": 79,
   "metadata": {},
   "outputs": [
    {
     "data": {
      "text/plain": [
       "4451    303\n",
       "4452    268\n",
       "4453    236\n",
       "4454    299\n",
       "4455    284\n",
       "       ... \n",
       "5872    355\n",
       "5899    424\n",
       "5900    421\n",
       "5901    386\n",
       "5902    459\n",
       "Name: Emergency Reason, Length: 204, dtype: int64"
      ]
     },
     "execution_count": 79,
     "metadata": {},
     "output_type": "execute_result"
    }
   ],
   "source": [
    "group4"
   ]
  },
  {
   "cell_type": "code",
   "execution_count": 80,
   "metadata": {},
   "outputs": [
    {
     "data": {
      "text/html": [
       "<div>\n",
       "<style scoped>\n",
       "    .dataframe tbody tr th:only-of-type {\n",
       "        vertical-align: middle;\n",
       "    }\n",
       "\n",
       "    .dataframe tbody tr th {\n",
       "        vertical-align: top;\n",
       "    }\n",
       "\n",
       "    .dataframe thead th {\n",
       "        text-align: right;\n",
       "    }\n",
       "</style>\n",
       "<table border=\"1\" class=\"dataframe\">\n",
       "  <thead>\n",
       "    <tr style=\"text-align: right;\">\n",
       "      <th></th>\n",
       "      <th>Moon Phase</th>\n",
       "      <th>Emergency Reason</th>\n",
       "    </tr>\n",
       "  </thead>\n",
       "  <tbody>\n",
       "    <tr>\n",
       "      <th>0</th>\n",
       "      <td>0.00</td>\n",
       "      <td>16514</td>\n",
       "    </tr>\n",
       "    <tr>\n",
       "      <th>1</th>\n",
       "      <td>0.25</td>\n",
       "      <td>3208</td>\n",
       "    </tr>\n",
       "    <tr>\n",
       "      <th>2</th>\n",
       "      <td>0.50</td>\n",
       "      <td>33278</td>\n",
       "    </tr>\n",
       "    <tr>\n",
       "      <th>3</th>\n",
       "      <td>0.75</td>\n",
       "      <td>4636</td>\n",
       "    </tr>\n",
       "  </tbody>\n",
       "</table>\n",
       "</div>"
      ],
      "text/plain": [
       "   Moon Phase  Emergency Reason\n",
       "0        0.00             16514\n",
       "1        0.25              3208\n",
       "2        0.50             33278\n",
       "3        0.75              4636"
      ]
     },
     "execution_count": 80,
     "metadata": {},
     "output_type": "execute_result"
    }
   ],
   "source": [
    "\n",
    "group_moon_date = narrowed_phases.groupby([\"Moon Phase\"])\n",
    "group_counted = group_moon_date[\"Emergency Reason\"].count()\n",
    "group_counted.head()\n",
    "\n",
    "\n",
    "group_counted_df = pd.DataFrame(group_counted)\n",
    "group_counted_df.reset_index(inplace=True)\n",
    "group_counted_df.head(20)"
   ]
  },
  {
   "cell_type": "code",
   "execution_count": 81,
   "metadata": {},
   "outputs": [],
   "source": [
    "critical_value = stats.chi2.ppf(q = 0.95, df = 3)"
   ]
  },
  {
   "cell_type": "code",
   "execution_count": 82,
   "metadata": {},
   "outputs": [
    {
     "data": {
      "text/plain": [
       "7.814727903251179"
      ]
     },
     "execution_count": 82,
     "metadata": {},
     "output_type": "execute_result"
    }
   ],
   "source": [
    "critical_value"
   ]
  },
  {
   "cell_type": "code",
   "execution_count": 83,
   "metadata": {},
   "outputs": [
    {
     "data": {
      "text/plain": [
       "57636"
      ]
     },
     "execution_count": 83,
     "metadata": {},
     "output_type": "execute_result"
    }
   ],
   "source": [
    "group_counted_df[\"Emergency Reason\"].sum()"
   ]
  },
  {
   "cell_type": "code",
   "execution_count": 84,
   "metadata": {},
   "outputs": [],
   "source": [
    "average = 57636/4"
   ]
  },
  {
   "cell_type": "code",
   "execution_count": 85,
   "metadata": {},
   "outputs": [],
   "source": [
    "group_counted_df[\"expected\"] = average"
   ]
  },
  {
   "cell_type": "code",
   "execution_count": 86,
   "metadata": {},
   "outputs": [
    {
     "data": {
      "text/html": [
       "<div>\n",
       "<style scoped>\n",
       "    .dataframe tbody tr th:only-of-type {\n",
       "        vertical-align: middle;\n",
       "    }\n",
       "\n",
       "    .dataframe tbody tr th {\n",
       "        vertical-align: top;\n",
       "    }\n",
       "\n",
       "    .dataframe thead th {\n",
       "        text-align: right;\n",
       "    }\n",
       "</style>\n",
       "<table border=\"1\" class=\"dataframe\">\n",
       "  <thead>\n",
       "    <tr style=\"text-align: right;\">\n",
       "      <th></th>\n",
       "      <th>Moon Phase</th>\n",
       "      <th>Emergency Reason</th>\n",
       "      <th>expected</th>\n",
       "    </tr>\n",
       "  </thead>\n",
       "  <tbody>\n",
       "    <tr>\n",
       "      <th>0</th>\n",
       "      <td>0.00</td>\n",
       "      <td>16514</td>\n",
       "      <td>14409.0</td>\n",
       "    </tr>\n",
       "    <tr>\n",
       "      <th>1</th>\n",
       "      <td>0.25</td>\n",
       "      <td>3208</td>\n",
       "      <td>14409.0</td>\n",
       "    </tr>\n",
       "    <tr>\n",
       "      <th>2</th>\n",
       "      <td>0.50</td>\n",
       "      <td>33278</td>\n",
       "      <td>14409.0</td>\n",
       "    </tr>\n",
       "    <tr>\n",
       "      <th>3</th>\n",
       "      <td>0.75</td>\n",
       "      <td>4636</td>\n",
       "      <td>14409.0</td>\n",
       "    </tr>\n",
       "  </tbody>\n",
       "</table>\n",
       "</div>"
      ],
      "text/plain": [
       "   Moon Phase  Emergency Reason  expected\n",
       "0        0.00             16514   14409.0\n",
       "1        0.25              3208   14409.0\n",
       "2        0.50             33278   14409.0\n",
       "3        0.75              4636   14409.0"
      ]
     },
     "execution_count": 86,
     "metadata": {},
     "output_type": "execute_result"
    }
   ],
   "source": [
    "group_counted_df"
   ]
  },
  {
   "cell_type": "code",
   "execution_count": 87,
   "metadata": {},
   "outputs": [
    {
     "data": {
      "text/plain": [
       "Power_divergenceResult(statistic=40352.84308418349, pvalue=0.0)"
      ]
     },
     "execution_count": 87,
     "metadata": {},
     "output_type": "execute_result"
    }
   ],
   "source": [
    "stats.chisquare(group_counted_df['Emergency Reason'], group_counted_df[\"expected\"])"
   ]
  },
  {
   "cell_type": "code",
   "execution_count": 88,
   "metadata": {},
   "outputs": [
    {
     "data": {
      "image/png": "[encoded data removed]",
      "text/plain": [
       "<Figure size 432x288 with 1 Axes>"
      ]
     },
     "metadata": {
      "needs_background": "light"
     },
     "output_type": "display_data"
    },
    {
     "data": {
      "text/plain": [
       "<Figure size 432x288 with 0 Axes>"
      ]
     },
     "metadata": {},
     "output_type": "display_data"
    }
   ],
   "source": [
    "y_values = group_counted_df[\"Emergency Reason\"]\n",
    "labels = [\"New Moon\", \"First Quarter\", \"Full Moon\",\"Last Quarter\"]\n",
    "plt.bar(labels, y_values, color=\"g\", align=\"center\", alpha=0.75)\n",
    "plt.title(\"911 Calls per Moon Phase (2015-2019)\")\n",
    "plt.xlabel(\"Moon Phase\")\n",
    "plt.ylabel(\"911 Calls\")\n",
    "plt.savefig('Images/Calls_per_phase_Alex.png')\n",
    "plt.show()\n",
    "\n"
   ]
  },
  {
   "cell_type": "code",
   "execution_count": 89,
   "metadata": {},
   "outputs": [
    {
     "data": {
      "text/html": [
       "<div>\n",
       "<style scoped>\n",
       "    .dataframe tbody tr th:only-of-type {\n",
       "        vertical-align: middle;\n",
       "    }\n",
       "\n",
       "    .dataframe tbody tr th {\n",
       "        vertical-align: top;\n",
       "    }\n",
       "\n",
       "    .dataframe thead th {\n",
       "        text-align: right;\n",
       "    }\n",
       "</style>\n",
       "<table border=\"1\" class=\"dataframe\">\n",
       "  <thead>\n",
       "    <tr style=\"text-align: right;\">\n",
       "      <th></th>\n",
       "      <th>Phasing</th>\n",
       "      <th>Emergency Reason</th>\n",
       "    </tr>\n",
       "  </thead>\n",
       "  <tbody>\n",
       "    <tr>\n",
       "      <th>0</th>\n",
       "      <td>New Moon End</td>\n",
       "      <td>109396</td>\n",
       "    </tr>\n",
       "    <tr>\n",
       "      <th>1</th>\n",
       "      <td>Waxing</td>\n",
       "      <td>71219</td>\n",
       "    </tr>\n",
       "    <tr>\n",
       "      <th>2</th>\n",
       "      <td>Full Moon Area</td>\n",
       "      <td>152880</td>\n",
       "    </tr>\n",
       "    <tr>\n",
       "      <th>3</th>\n",
       "      <td>Waning</td>\n",
       "      <td>70832</td>\n",
       "    </tr>\n",
       "    <tr>\n",
       "      <th>4</th>\n",
       "      <td>New Moon Begin</td>\n",
       "      <td>112182</td>\n",
       "    </tr>\n",
       "  </tbody>\n",
       "</table>\n",
       "</div>"
      ],
      "text/plain": [
       "          Phasing  Emergency Reason\n",
       "0    New Moon End            109396\n",
       "1          Waxing             71219\n",
       "2  Full Moon Area            152880\n",
       "3          Waning             70832\n",
       "4  New Moon Begin            112182"
      ]
     },
     "execution_count": 89,
     "metadata": {},
     "output_type": "execute_result"
    }
   ],
   "source": [
    "filtered_df = werewolf_df.dropna()\n",
    "\n",
    "group_moon_phasing = filtered_df.groupby(\"Phasing\")\n",
    "group_moon_phasing.head()\n",
    "group_counted = group_moon_phasing[\"Emergency Reason\"].count()\n",
    "group_counted.head()\n",
    "\n",
    "\n",
    "group_counted_df = pd.DataFrame(group_counted)\n",
    "group_counted_df.reset_index(inplace=True)\n",
    "# group_counted_df.head()\n",
    "\n",
    "clean_counted_df = group_counted_df.loc[group_counted_df[\"Emergency Reason\"]!= 0,:]\n",
    "group_counted_df\n",
    "clean_counted_df"
   ]
  },
  {
   "cell_type": "code",
   "execution_count": null,
   "metadata": {},
   "outputs": [],
   "source": []
  },
  {
   "cell_type": "code",
   "execution_count": 90,
   "metadata": {},
   "outputs": [],
   "source": [
    "\n",
    "\n",
    "expected = clean_counted_df[\"Emergency Reason\"].sum()/5\n",
    "clean_counted_df[\"expected\"] = expected"
   ]
  },
  {
   "cell_type": "code",
   "execution_count": 91,
   "metadata": {},
   "outputs": [],
   "source": [
    "\n",
    "critical_value = stats.chi2.ppf(q = 0.95, df = 4)"
   ]
  },
  {
   "cell_type": "code",
   "execution_count": 92,
   "metadata": {},
   "outputs": [
    {
     "data": {
      "text/plain": [
       "9.487729036781154"
      ]
     },
     "execution_count": 92,
     "metadata": {},
     "output_type": "execute_result"
    }
   ],
   "source": [
    "critical_value"
   ]
  },
  {
   "cell_type": "code",
   "execution_count": 93,
   "metadata": {},
   "outputs": [
    {
     "data": {
      "text/plain": [
       "Power_divergenceResult(statistic=45087.20185708284, pvalue=0.0)"
      ]
     },
     "execution_count": 93,
     "metadata": {},
     "output_type": "execute_result"
    }
   ],
   "source": [
    "stats.chisquare(clean_counted_df['Emergency Reason'], clean_counted_df[\"expected\"])"
   ]
  },
  {
   "cell_type": "code",
   "execution_count": 95,
   "metadata": {},
   "outputs": [
    {
     "data": {
      "image/png": "[encoded data removed]",
      "text/plain": [
       "<Figure size 432x288 with 1 Axes>"
      ]
     },
     "metadata": {
      "needs_background": "light"
     },
     "output_type": "display_data"
    },
    {
     "data": {
      "text/plain": [
       "<Figure size 432x288 with 0 Axes>"
      ]
     },
     "metadata": {},
     "output_type": "display_data"
    }
   ],
   "source": [
    "y_values = clean_counted_df[\"Emergency Reason\"]\n",
    "labels = clean_counted_df[\"Phasing\"]\n",
    "plt.bar(labels, y_values, color=\"b\", align=\"center\", alpha=0.75)\n",
    "plt.title(\"911 Calls per Date Range (2015-2019)\")\n",
    "plt.xlabel(\"Moon Phases\")\n",
    "plt.ylabel(\"911 Calls\")\n",
    "plt.tight_layout()\n",
    "plt.savefig('Images/Calls_per_daterange_Alex.png')\n",
    "plt.show()\n"
   ]
  },
  {
   "cell_type": "code",
   "execution_count": null,
   "metadata": {},
   "outputs": [],
   "source": []
  },
  {
   "cell_type": "code",
   "execution_count": null,
   "metadata": {},
   "outputs": [],
   "source": []
  }
 ],
 "metadata": {
  "kernelspec": {
   "display_name": "Python 3",
   "language": "python",
   "name": "python3"
  },
  "language_info": {
   "codemirror_mode": {
    "name": "ipython",
    "version": 3
   },
   "file_extension": ".py",
   "mimetype": "text/x-python",
   "name": "python",
   "nbconvert_exporter": "python",
   "pygments_lexer": "ipython3",
   "version": "3.8.3"
  }
 },
 "nbformat": 4,
 "nbformat_minor": 4
}
